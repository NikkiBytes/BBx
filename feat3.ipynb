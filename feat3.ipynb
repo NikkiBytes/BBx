{
  "nbformat": 4,
  "nbformat_minor": 0,
  "metadata": {
    "colab": {
      "name": "feat3.ipynb",
      "provenance": [],
      "collapsed_sections": [],
      "mount_file_id": "1fkeNZfjrnnP2AMOQnH0R2MjAbZuLblYd",
      "authorship_tag": "ABX9TyNICRH0/k8zx8dCjRnpjH8M",
      "include_colab_link": true
    },
    "kernelspec": {
      "name": "python3",
      "display_name": "Python 3"
    },
    "widgets": {
      "application/vnd.jupyter.widget-state+json": {
        "670cc3d35a9f413897d3d37192123689": {
          "model_module": "@jupyter-widgets/controls",
          "model_name": "VBoxModel",
          "state": {
            "_view_name": "VBoxView",
            "_dom_classes": [
              "widget-interact"
            ],
            "_model_name": "VBoxModel",
            "_view_module": "@jupyter-widgets/controls",
            "_model_module_version": "1.5.0",
            "_view_count": null,
            "_view_module_version": "1.5.0",
            "box_style": "",
            "layout": "IPY_MODEL_c4e489d720ad4c2ba3b1a5ed8700f6aa",
            "_model_module": "@jupyter-widgets/controls",
            "children": [
              "IPY_MODEL_a76b5818b631447087c527624d5e4f9e",
              "IPY_MODEL_3239339295d849d18968ed675cfdae75"
            ]
          }
        },
        "c4e489d720ad4c2ba3b1a5ed8700f6aa": {
          "model_module": "@jupyter-widgets/base",
          "model_name": "LayoutModel",
          "state": {
            "_view_name": "LayoutView",
            "grid_template_rows": null,
            "right": null,
            "justify_content": null,
            "_view_module": "@jupyter-widgets/base",
            "overflow": null,
            "_model_module_version": "1.2.0",
            "_view_count": null,
            "flex_flow": null,
            "width": null,
            "min_width": null,
            "border": null,
            "align_items": null,
            "bottom": null,
            "_model_module": "@jupyter-widgets/base",
            "top": null,
            "grid_column": null,
            "overflow_y": null,
            "overflow_x": null,
            "grid_auto_flow": null,
            "grid_area": null,
            "grid_template_columns": null,
            "flex": null,
            "_model_name": "LayoutModel",
            "justify_items": null,
            "grid_row": null,
            "max_height": null,
            "align_content": null,
            "visibility": null,
            "align_self": null,
            "height": null,
            "min_height": null,
            "padding": null,
            "grid_auto_rows": null,
            "grid_gap": null,
            "max_width": null,
            "order": null,
            "_view_module_version": "1.2.0",
            "grid_template_areas": null,
            "object_position": null,
            "object_fit": null,
            "grid_auto_columns": null,
            "margin": null,
            "display": null,
            "left": null
          }
        },
        "a76b5818b631447087c527624d5e4f9e": {
          "model_module": "@jupyter-widgets/controls",
          "model_name": "SelectModel",
          "state": {
            "_options_labels": [
              "cope 1, ssbcue > baseline",
              "cope 2, usbcue > baseline",
              "cope 3, h20cue > baseline",
              "cope 4, ssbtaste > baseline",
              "cope 5, usbtaste > baseline",
              "cope 6, h20taste > baseline",
              "cope 7, ssbcue > h20cue",
              "cope 8, usbcue > h20cue",
              "cope 9, ssbcue + usbcue > h20cue",
              "cope 10, ssbcue + usbcue > h20cue",
              "cope 11, usbtaste > h20taste",
              "cope 12, ssbtaste + usbtaste > h20taste",
              "cope 13, h20taste > rinse",
              "cope 14, ssbcue > usbcue",
              "cope 15, usbcue > ssbcue",
              "cope 16, ssbtaste > usbtaste",
              "cope 17, usbtaste > ssbtaste",
              "cope 18, rinse > baseline",
              "cope 19, ssbtaste > rinse",
              "cope 20, usbtaste > rinse"
            ],
            "_view_name": "SelectView",
            "style": "IPY_MODEL_ec335a0fda6a4b59bb9deb1e85405940",
            "rows": 5,
            "_dom_classes": [],
            "description": "cope",
            "_model_name": "SelectModel",
            "index": 0,
            "_view_module": "@jupyter-widgets/controls",
            "_model_module_version": "1.5.0",
            "_view_count": null,
            "disabled": false,
            "_view_module_version": "1.5.0",
            "description_tooltip": null,
            "_model_module": "@jupyter-widgets/controls",
            "layout": "IPY_MODEL_eb12386759bd45a38d155b32a6db1561"
          }
        },
        "3239339295d849d18968ed675cfdae75": {
          "model_module": "@jupyter-widgets/output",
          "model_name": "OutputModel",
          "state": {
            "_view_name": "OutputView",
            "msg_id": "",
            "_dom_classes": [],
            "_model_name": "OutputModel",
            "outputs": [
              {
                "output_type": "stream",
                "metadata": {
                  "tags": []
                },
                "text": "\n\n[INFO] cope 1, ssbcue > baseline \n[INFO] folder name: c1_ssbcue_129.gfeat \n[INFO] find folder, images and other files on renci: \n\t/projects/niblab/experiments/bbx/data/fsl_feat3/ses-1/c1_ssbcue_129.gfeat/cope1.feat \n\n[INFO] image below is the zstat threshold rendered image (c1_rendered_thresh_zstat1.png)\n",
                "stream": "stdout"
              },
              {
                "output_type": "display_data",
                "metadata": {
                  "tags": [],
                  "needs_background": "light"
                },
                "image/png": "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\n",
                "text/plain": "<Figure size 2880x1440 with 1 Axes>"
              },
              {
                "output_type": "stream",
                "metadata": {
                  "tags": []
                },
                "text": "\n[FILE] stats below from file c1_cluster_zstat1_std.txt\n",
                "stream": "stdout"
              },
              {
                "output_type": "display_data",
                "metadata": {
                  "tags": []
                },
                "text/html": "<div>\n<style scoped>\n    .dataframe tbody tr th:only-of-type {\n        vertical-align: middle;\n    }\n\n    .dataframe tbody tr th {\n        vertical-align: top;\n    }\n\n    .dataframe thead th {\n        text-align: right;\n    }\n</style>\n<table border=\"1\" class=\"dataframe\">\n  <thead>\n    <tr style=\"text-align: right;\">\n      <th></th>\n      <th>Cluster Index</th>\n      <th>Voxels</th>\n      <th>P</th>\n      <th>-log10(P)</th>\n      <th>Z-MAX</th>\n      <th>Z-MAX X (mm)</th>\n      <th>Z-MAX Y (mm)</th>\n      <th>Z-MAX Z (mm)</th>\n      <th>Z-COG X (mm)</th>\n      <th>Z-COG Y (mm)</th>\n      <th>Z-COG Z (mm)</th>\n      <th>COPE-MAX</th>\n      <th>COPE-MAX X (mm)</th>\n      <th>COPE-MAX Y (mm)</th>\n      <th>COPE-MAX Z (mm)</th>\n      <th>COPE-MEAN</th>\n    </tr>\n  </thead>\n  <tbody>\n    <tr>\n      <th>0</th>\n      <td>2</td>\n      <td>18065</td>\n      <td>0.000000e+00</td>\n      <td>207.0</td>\n      <td>12.5</td>\n      <td>56.5</td>\n      <td>-6.5</td>\n      <td>23.5</td>\n      <td>1.0300</td>\n      <td>-41.90</td>\n      <td>17.6</td>\n      <td>447</td>\n      <td>-54.5</td>\n      <td>-6.5</td>\n      <td>26.5</td>\n      <td>98.7</td>\n    </tr>\n    <tr>\n      <th>1</th>\n      <td>1</td>\n      <td>1276</td>\n      <td>7.860000e-35</td>\n      <td>34.1</td>\n      <td>11.0</td>\n      <td>-6.5</td>\n      <td>5.5</td>\n      <td>53.5</td>\n      <td>0.0231</td>\n      <td>4.27</td>\n      <td>45.8</td>\n      <td>299</td>\n      <td>-3.5</td>\n      <td>5.5</td>\n      <td>53.5</td>\n      <td>86.8</td>\n    </tr>\n  </tbody>\n</table>\n</div>",
                "text/plain": "   Cluster Index  Voxels  ...  COPE-MAX Z (mm)  COPE-MEAN\n0              2   18065  ...             26.5       98.7\n1              1    1276  ...             53.5       86.8\n\n[2 rows x 16 columns]"
              },
              {
                "output_type": "stream",
                "metadata": {
                  "tags": []
                },
                "text": "\n\n[FILE] stats below from file c1_lmax_zstat1_std.txt\n",
                "stream": "stdout"
              },
              {
                "output_type": "display_data",
                "metadata": {
                  "tags": []
                },
                "text/html": "<div>\n<style scoped>\n    .dataframe tbody tr th:only-of-type {\n        vertical-align: middle;\n    }\n\n    .dataframe tbody tr th {\n        vertical-align: top;\n    }\n\n    .dataframe thead th {\n        text-align: right;\n    }\n</style>\n<table border=\"1\" class=\"dataframe\">\n  <thead>\n    <tr style=\"text-align: right;\">\n      <th></th>\n      <th>Cluster Index</th>\n      <th>Z</th>\n      <th>x</th>\n      <th>y</th>\n      <th>z</th>\n    </tr>\n  </thead>\n  <tbody>\n    <tr>\n      <th>0</th>\n      <td>2</td>\n      <td>12.50</td>\n      <td>56.5</td>\n      <td>-6.5</td>\n      <td>23.5</td>\n    </tr>\n    <tr>\n      <th>1</th>\n      <td>2</td>\n      <td>12.40</td>\n      <td>-33.5</td>\n      <td>-60.5</td>\n      <td>-15.5</td>\n    </tr>\n    <tr>\n      <th>2</th>\n      <td>2</td>\n      <td>12.40</td>\n      <td>-54.5</td>\n      <td>-9.5</td>\n      <td>32.5</td>\n    </tr>\n    <tr>\n      <th>3</th>\n      <td>2</td>\n      <td>12.30</td>\n      <td>2.5</td>\n      <td>-87.5</td>\n      <td>-3.5</td>\n    </tr>\n    <tr>\n      <th>4</th>\n      <td>2</td>\n      <td>12.30</td>\n      <td>32.5</td>\n      <td>-57.5</td>\n      <td>-15.5</td>\n    </tr>\n    <tr>\n      <th>5</th>\n      <td>2</td>\n      <td>12.30</td>\n      <td>-24.5</td>\n      <td>-75.5</td>\n      <td>-9.5</td>\n    </tr>\n    <tr>\n      <th>6</th>\n      <td>1</td>\n      <td>11.00</td>\n      <td>-6.5</td>\n      <td>5.5</td>\n      <td>53.5</td>\n    </tr>\n    <tr>\n      <th>7</th>\n      <td>1</td>\n      <td>10.30</td>\n      <td>-3.5</td>\n      <td>-3.5</td>\n      <td>59.5</td>\n    </tr>\n    <tr>\n      <th>8</th>\n      <td>1</td>\n      <td>10.20</td>\n      <td>5.5</td>\n      <td>2.5</td>\n      <td>56.5</td>\n    </tr>\n    <tr>\n      <th>9</th>\n      <td>1</td>\n      <td>9.42</td>\n      <td>8.5</td>\n      <td>8.5</td>\n      <td>47.5</td>\n    </tr>\n    <tr>\n      <th>10</th>\n      <td>1</td>\n      <td>8.89</td>\n      <td>-9.5</td>\n      <td>14.5</td>\n      <td>35.5</td>\n    </tr>\n    <tr>\n      <th>11</th>\n      <td>1</td>\n      <td>8.15</td>\n      <td>8.5</td>\n      <td>17.5</td>\n      <td>35.5</td>\n    </tr>\n  </tbody>\n</table>\n</div>",
                "text/plain": "    Cluster Index      Z     x     y     z\n0               2  12.50  56.5  -6.5  23.5\n1               2  12.40 -33.5 -60.5 -15.5\n2               2  12.40 -54.5  -9.5  32.5\n3               2  12.30   2.5 -87.5  -3.5\n4               2  12.30  32.5 -57.5 -15.5\n5               2  12.30 -24.5 -75.5  -9.5\n6               1  11.00  -6.5   5.5  53.5\n7               1  10.30  -3.5  -3.5  59.5\n8               1  10.20   5.5   2.5  56.5\n9               1   9.42   8.5   8.5  47.5\n10              1   8.89  -9.5  14.5  35.5\n11              1   8.15   8.5  17.5  35.5"
              }
            ],
            "_view_module": "@jupyter-widgets/output",
            "_model_module_version": "1.0.0",
            "_view_count": null,
            "_view_module_version": "1.0.0",
            "layout": "IPY_MODEL_1f122d4a553d4cd6908b52ee7c49a549",
            "_model_module": "@jupyter-widgets/output"
          }
        },
        "ec335a0fda6a4b59bb9deb1e85405940": {
          "model_module": "@jupyter-widgets/controls",
          "model_name": "DescriptionStyleModel",
          "state": {
            "_view_name": "StyleView",
            "_model_name": "DescriptionStyleModel",
            "description_width": "",
            "_view_module": "@jupyter-widgets/base",
            "_model_module_version": "1.5.0",
            "_view_count": null,
            "_view_module_version": "1.2.0",
            "_model_module": "@jupyter-widgets/controls"
          }
        },
        "eb12386759bd45a38d155b32a6db1561": {
          "model_module": "@jupyter-widgets/base",
          "model_name": "LayoutModel",
          "state": {
            "_view_name": "LayoutView",
            "grid_template_rows": null,
            "right": null,
            "justify_content": null,
            "_view_module": "@jupyter-widgets/base",
            "overflow": null,
            "_model_module_version": "1.2.0",
            "_view_count": null,
            "flex_flow": null,
            "width": null,
            "min_width": null,
            "border": null,
            "align_items": null,
            "bottom": null,
            "_model_module": "@jupyter-widgets/base",
            "top": null,
            "grid_column": null,
            "overflow_y": null,
            "overflow_x": null,
            "grid_auto_flow": null,
            "grid_area": null,
            "grid_template_columns": null,
            "flex": null,
            "_model_name": "LayoutModel",
            "justify_items": null,
            "grid_row": null,
            "max_height": null,
            "align_content": null,
            "visibility": null,
            "align_self": null,
            "height": null,
            "min_height": null,
            "padding": null,
            "grid_auto_rows": null,
            "grid_gap": null,
            "max_width": null,
            "order": null,
            "_view_module_version": "1.2.0",
            "grid_template_areas": null,
            "object_position": null,
            "object_fit": null,
            "grid_auto_columns": null,
            "margin": null,
            "display": null,
            "left": null
          }
        },
        "1f122d4a553d4cd6908b52ee7c49a549": {
          "model_module": "@jupyter-widgets/base",
          "model_name": "LayoutModel",
          "state": {
            "_view_name": "LayoutView",
            "grid_template_rows": null,
            "right": null,
            "justify_content": null,
            "_view_module": "@jupyter-widgets/base",
            "overflow": null,
            "_model_module_version": "1.2.0",
            "_view_count": null,
            "flex_flow": null,
            "width": null,
            "min_width": null,
            "border": null,
            "align_items": null,
            "bottom": null,
            "_model_module": "@jupyter-widgets/base",
            "top": null,
            "grid_column": null,
            "overflow_y": null,
            "overflow_x": null,
            "grid_auto_flow": null,
            "grid_area": null,
            "grid_template_columns": null,
            "flex": null,
            "_model_name": "LayoutModel",
            "justify_items": null,
            "grid_row": null,
            "max_height": null,
            "align_content": null,
            "visibility": null,
            "align_self": null,
            "height": null,
            "min_height": null,
            "padding": null,
            "grid_auto_rows": null,
            "grid_gap": null,
            "max_width": null,
            "order": null,
            "_view_module_version": "1.2.0",
            "grid_template_areas": null,
            "object_position": null,
            "object_fit": null,
            "grid_auto_columns": null,
            "margin": null,
            "display": null,
            "left": null
          }
        }
      }
    }
  },
  "cells": [
    {
      "cell_type": "markdown",
      "metadata": {
        "id": "view-in-github",
        "colab_type": "text"
      },
      "source": [
        "<a href=\"https://colab.research.google.com/github/NikkiBytes/BBx/blob/master/feat3.ipynb\" target=\"_parent\"><img src=\"https://colab.research.google.com/assets/colab-badge.svg\" alt=\"Open In Colab\"/></a>"
      ]
    },
    {
      "cell_type": "markdown",
      "metadata": {
        "id": "RY-N5lsZsvlC"
      },
      "source": [
        "# BBX Quality Analysis \n"
      ]
    },
    {
      "cell_type": "markdown",
      "metadata": {
        "id": "0Wy76fsis8LA"
      },
      "source": [
        "Quick References-\n",
        "* google drive: [folder](https://drive.google.com/drive/u/0/folders/1fkNFJ_ODgWX1vBT8KJhAydEU7gEkWV37) \n",
        "* renci specific data paths(*bids, fmriprep, etc*): [csv](https://docs.google.com/spreadsheets/d/1dgbbIByS4GKMMRmFmpEug_VTmbopz3-xqhwm4RcLrFU/edit#gid=0)  \n"
      ]
    },
    {
      "cell_type": "markdown",
      "metadata": {
        "id": "1agckeGGr_or"
      },
      "source": [
        "## Start"
      ]
    },
    {
      "cell_type": "code",
      "metadata": {
        "id": "cn9XVOtBf2Mm",
        "outputId": "719d1a96-0ff7-47ce-ee7b-741562b01f35",
        "colab": {
          "base_uri": "https://localhost:8080/",
          "height": 34
        }
      },
      "source": [
        "# establish connection between google colab and google drive with mount\n",
        "from google.colab import drive\n",
        "drive.mount('/content/gdrive', force_remount=True)\n",
        "\n"
      ],
      "execution_count": null,
      "outputs": [
        {
          "output_type": "stream",
          "text": [
            "Mounted at /content/gdrive\n"
          ],
          "name": "stdout"
        }
      ]
    },
    {
      "cell_type": "code",
      "metadata": {
        "id": "1z5sFQIaeqUx"
      },
      "source": [
        "# import pacakges \n",
        "\n",
        "import os, glob\n",
        "import ipywidgets as widgets\n",
        "import pandas as pd\n",
        "import matplotlib.pyplot as plt\n",
        "import matplotlib.image as mpimg\n",
        "from IPython.display import display\n",
        "from IPython.html.widgets import interactive\n",
        "\n",
        "#pd.set_option('display.max_rows', 159)\n",
        "#pd.set_option('display.max_colwidth', -1)\n",
        "\n",
        "%matplotlib inline "
      ],
      "execution_count": null,
      "outputs": []
    },
    {
      "cell_type": "code",
      "metadata": {
        "id": "axmIKh8DStns"
      },
      "source": [
        "gdrive_path='/content/gdrive/My Drive/Projects/17-0710_BBX/1_data/quality_analysis/fmriprep_files'"
      ],
      "execution_count": null,
      "outputs": []
    },
    {
      "cell_type": "markdown",
      "metadata": {
        "id": "liOu2cTfwHMi"
      },
      "source": [
        "## BIDS\n"
      ]
    },
    {
      "cell_type": "markdown",
      "metadata": {
        "id": "XdDEsvxlwHQZ"
      },
      "source": [
        ""
      ]
    },
    {
      "cell_type": "markdown",
      "metadata": {
        "id": "AQGYSmhpwHWE"
      },
      "source": [
        ""
      ]
    },
    {
      "cell_type": "markdown",
      "metadata": {
        "id": "5ORTYfKy0k3r"
      },
      "source": [
        "## Onsets \n",
        "original parser file: [.py](https://drive.google.com/drive/u/0/folders/1iD9uHpdnLXPPq9ORvynezd6-hWwBZfgH)\n",
        "\n"
      ]
    },
    {
      "cell_type": "code",
      "metadata": {
        "id": "YY2Y285FwBhj"
      },
      "source": [
        ""
      ],
      "execution_count": null,
      "outputs": []
    },
    {
      "cell_type": "markdown",
      "metadata": {
        "id": "eYhpHbIa0k7s"
      },
      "source": [
        "## Motion Check"
      ]
    },
    {
      "cell_type": "markdown",
      "metadata": {
        "id": "1rfigcb1mUTO"
      },
      "source": [
        "### fMRIPREP   \n",
        "path on renci: `/projects/niblab/experiments/bbx/data/fmriprep\n",
        "`   \n"
      ]
    },
    {
      "cell_type": "markdown",
      "metadata": {
        "id": "7NAXA5namz5H"
      },
      "source": [
        "Here we are grab the 6 rigid-motion body parameters from the `.tsv` confound files generated from fMRIPrep for each subject & condition. "
      ]
    },
    {
      "cell_type": "code",
      "metadata": {
        "id": "Fu8daW0a2Siw",
        "outputId": "8b835698-dac7-4492-9a8e-af01536e01a2",
        "colab": {
          "base_uri": "https://localhost:8080/",
          "height": 34
        }
      },
      "source": [
        "# variable lists to grab from the dataframe\n",
        "moco_cols = ['trans_x', 'trans_y', 'trans_z', 'rot_x', 'rot_y', 'rot_z']\n",
        "mot_outliers=['motion_outlier00', 'motion_outlier01', 'motion_outlier02',\n",
        "              'motion_outlier03','motion_outlier04', 'motion_outlier05']\n",
        "\n",
        "CONFOUND_TSVS=glob.glob(os.path.join(gdrive_path,\"*confounds*.tsv\"))\n",
        "CONFOUND_TSVS.sort()\n",
        "print(\"[INFO] %s tsvs found.\"%len(CONFOUND_TSVS))"
      ],
      "execution_count": null,
      "outputs": [
        {
          "output_type": "stream",
          "text": [
            "[INFO] 689 tsvs found.\n"
          ],
          "name": "stdout"
        }
      ]
    },
    {
      "cell_type": "code",
      "metadata": {
        "id": "mjwdgASwuqvd",
        "outputId": "2010cf35-026a-40ac-a8f7-beefa827d4e2",
        "colab": {
          "base_uri": "https://localhost:8080/",
          "height": 71
        }
      },
      "source": [
        "subject_ids=list(set([x.split(\"/\")[-1].split(\"_\")[0] for x in CONFOUND_TSVS]))\n",
        "subject_ids.sort()\n",
        "print(\"[INFO] %s subjects found.\"%len(subject_ids))\n",
        "print(subject_ids)"
      ],
      "execution_count": null,
      "outputs": [
        {
          "output_type": "stream",
          "text": [
            "[INFO] 140 subjects found.\n",
            "['sub-001', 'sub-002', 'sub-003', 'sub-004', 'sub-005', 'sub-006', 'sub-007', 'sub-008', 'sub-009', 'sub-010', 'sub-011', 'sub-012', 'sub-013', 'sub-014', 'sub-015', 'sub-016', 'sub-017', 'sub-018', 'sub-019', 'sub-020', 'sub-021', 'sub-022', 'sub-023', 'sub-024', 'sub-025', 'sub-026', 'sub-027', 'sub-028', 'sub-030', 'sub-031', 'sub-032', 'sub-033', 'sub-034', 'sub-035', 'sub-036', 'sub-037', 'sub-038', 'sub-039', 'sub-040', 'sub-041', 'sub-042', 'sub-043', 'sub-044', 'sub-045', 'sub-046', 'sub-048', 'sub-050', 'sub-051', 'sub-052', 'sub-053', 'sub-054', 'sub-055', 'sub-056', 'sub-057', 'sub-058', 'sub-059', 'sub-060', 'sub-061', 'sub-062', 'sub-063', 'sub-064', 'sub-065', 'sub-066', 'sub-067', 'sub-068', 'sub-070', 'sub-071', 'sub-072', 'sub-073', 'sub-075', 'sub-076', 'sub-077', 'sub-078', 'sub-079', 'sub-080', 'sub-082', 'sub-083', 'sub-084', 'sub-085', 'sub-086', 'sub-087', 'sub-088', 'sub-089', 'sub-090', 'sub-091', 'sub-092', 'sub-093', 'sub-095', 'sub-096', 'sub-097', 'sub-098', 'sub-099', 'sub-100', 'sub-102', 'sub-103', 'sub-104', 'sub-107', 'sub-108', 'sub-109', 'sub-111', 'sub-112', 'sub-114', 'sub-115', 'sub-116', 'sub-117', 'sub-118', 'sub-119', 'sub-120', 'sub-121', 'sub-123', 'sub-124', 'sub-127', 'sub-129', 'sub-130', 'sub-131', 'sub-132', 'sub-133', 'sub-134', 'sub-135', 'sub-136', 'sub-137', 'sub-138', 'sub-140', 'sub-141', 'sub-142', 'sub-143', 'sub-144', 'sub-145', 'sub-146', 'sub-147', 'sub-148', 'sub-149', 'sub-150', 'sub-151', 'sub-152', 'sub-153', 'sub-154', 'sub-156', 'sub-157', 'sub-159']\n"
          ],
          "name": "stdout"
        }
      ]
    },
    {
      "cell_type": "code",
      "metadata": {
        "id": "SMmwU3NnvaYw"
      },
      "source": [
        "suspect_subjects={}\n"
      ],
      "execution_count": null,
      "outputs": []
    },
    {
      "cell_type": "code",
      "metadata": {
        "id": "E4fEP34cvabS"
      },
      "source": [
        "for tsv in CONFOUND_TSVS[:10]:\n",
        "\n",
        "  sub_id=tsv.split(\"/\")[-1].split(\"_\")[0]\n",
        "  task=tsv.split(\"/\")[-1].split(\"_\")[2]\n",
        "  #print('[INFO] %s'%subj_id)\n",
        "  \n",
        "  tsv_df=pd.read_csv(tsv, sep=\"\\t\")\n",
        "  # get datafile column variables\n",
        "  tsv_df.rename_axis(\"time(s)\", inplace=True)\n",
        "\n",
        "  # plot the 6 basic motion paramters\n",
        "  #tsv_df[moco_cols].plot(kind='line', title=\"{}_{} six basic motion parameters\".format(sub_id, task))\n",
        "  \n",
        "      \n",
        "      \n",
        "  min_pt = tsv_df['std_dvars'].min() - .3\n",
        "  max_pt = tsv_df['std_dvars'].max() + .3\n",
        "  max_time_pt = tsv_df.index.stop\n",
        "  spikes=[]\n",
        "  for index,pt in tsv_df['std_dvars'].iteritems():\n",
        "      if pt > 3:\n",
        "          spikes.append((round(pt,2), index))\n",
        "\n",
        "  # print display only if spikes found\n",
        "  if spike_ct > 0:\n",
        "      \n",
        "      #print(\"\\n[INFO] {} {}  \\n[INFO] Spike count: {}\".format(sub_id, task,spike_ct))\n",
        "      #print(\"[INFO] Spikes Found:\")\n",
        "      #for x in spikes:\n",
        "        #   print(\"\\tTime: {} \\t| Spike: {}\".format(x[1], x[0]) )\n",
        "      if sub_id not in suspect_subjects:\n",
        "        suspect_subjects[sub_id] = {}\n",
        "      if task not in suspect_subjects:\n",
        "        suspect_subjects[task] = spikes"
      ],
      "execution_count": null,
      "outputs": []
    },
    {
      "cell_type": "code",
      "metadata": {
        "id": "7_ou8vldv0Cn",
        "outputId": "e3456f78-3c29-43ad-e858-fc3b5e31ade8",
        "colab": {
          "base_uri": "https://localhost:8080/",
          "height": 34
        }
      },
      "source": [
        "suspect_subjects"
      ],
      "execution_count": null,
      "outputs": [
        {
          "output_type": "execute_result",
          "data": {
            "text/plain": [
              "{}"
            ]
          },
          "metadata": {
            "tags": []
          },
          "execution_count": 50
        }
      ]
    },
    {
      "cell_type": "code",
      "metadata": {
        "id": "dx2jdnRZoC7A"
      },
      "source": [
        "## Helper Functions\n",
        "\n",
        "\n",
        "def display_motion():\n",
        "  # display thte 6 rigid-body motion parameters, \"\"\n",
        "  for tsv in CONFOUND_TSVS:\n",
        "\n",
        "      sub_id=tsv.split(\"/\")[-1].split(\"_\")[0]\n",
        "      task=tsv.split(\"/\")[-1].split(\"_\")[2]\n",
        "      #print('[INFO] %s'%subj_id)\n",
        "      \n",
        "      tsv_df=pd.read_csv(tsv, sep=\"\\t\")\n",
        "      # get datafile column variables\n",
        "      tsv_df.rename_axis(\"time(s)\", inplace=True)\n",
        "\n",
        "      # plot the 6 basic motion paramters\n",
        "      tsv_df[moco_cols].plot(kind='line', title=\"{}_{} six basic motion parameters\".format(sub_id, task))\n",
        "      plt.show()\n",
        "\n",
        "\n",
        "def display_fd(suspect_subjects, CONFOUND_TSVS):\n",
        "\n",
        "  for tsv in CONFOUND_TSVS:\n",
        "\n",
        "      sub_id=tsv.split(\"/\")[-1].split(\"_\")[0]\n",
        "      task=tsv.split(\"/\")[-1].split(\"_\")[2]\n",
        "      #print('[INFO] %s'%subj_id)\n",
        "      \n",
        "      tsv_df=pd.read_csv(tsv, sep=\"\\t\")\n",
        "      # get datafile column variables\n",
        "      tsv_df.rename_axis(\"time(s)\", inplace=True)\n",
        "\n",
        "      # plot the 6 basic motion paramters\n",
        "      #tsv_df[moco_cols].plot(kind='line', title=\"{}_{} six basic motion parameters\".format(sub_id, task))\n",
        "      \n",
        "          \n",
        "          \n",
        "      min_pt = tsv_df['std_dvars'].min() - .3\n",
        "      max_pt = tsv_df['std_dvars'].max() + .3\n",
        "      max_time_pt = tsv_df.index.stop\n",
        "      spikes=[]\n",
        "      for index,pt in tsv_df['std_dvars'].iteritems():\n",
        "          if pt > 3:\n",
        "              spikes.append((round(pt,2), index))\n",
        "\n",
        "      spike_ct=len(spikes)\n",
        "      print(spike_ct)\n",
        "      # print display only if spikes found\n",
        "      if spike_ct > 0:\n",
        "          \n",
        "          #print(\"\\n[INFO] {} {}  \\n[INFO] Spike count: {}\".format(sub_id, task,spike_ct))\n",
        "          #print(\"[INFO] Spikes Found:\")\n",
        "          #for x in spikes:\n",
        "           #   print(\"\\tTime: {} \\t| Spike: {}\".format(x[1], x[0]) )\n",
        "          if sub_id not in suspect_subjects:\n",
        "            suspect_subjects[sub_id] = {}\n",
        "          if task not in suspect_subjects:\n",
        "            suspect_subjects[task] = spikes\n",
        "      return suspect_subjects;\n",
        "          \n",
        "          #fig, ax = plt.subplots(ncols=2, figsize=(15,8))\n",
        "          #tsv_df.plot.line( y=\"std_dvars\", c=\"purple\", use_index=True, ax=ax[0])\n",
        "          #tsv_df.plot.line( y=\"framewise_displacement\", use_index=True, ax=ax[1])\n",
        "          #fig.legend(loc=\"best\")\n",
        "\n",
        "          #plt.show()\n",
        "        \n",
        "  "
      ],
      "execution_count": null,
      "outputs": []
    },
    {
      "cell_type": "code",
      "metadata": {
        "id": "vRtQjm9HqLBJ",
        "outputId": "686a3728-7c9d-4241-f544-9bcfcd12866c",
        "colab": {
          "base_uri": "https://localhost:8080/",
          "height": 34
        }
      },
      "source": [
        "suspect_subjects=display_fd(suspect_subjects, CONFOUND_TSVS)"
      ],
      "execution_count": null,
      "outputs": [
        {
          "output_type": "stream",
          "text": [
            "0\n"
          ],
          "name": "stdout"
        }
      ]
    },
    {
      "cell_type": "code",
      "metadata": {
        "id": "Li_W59Ktov8I",
        "outputId": "a3cea1c8-a092-44e3-c91e-d7f3242439bb",
        "colab": {
          "base_uri": "https://localhost:8080/",
          "height": 232
        }
      },
      "source": [
        "def plot_motion_params(tsv=tsv_df[0]):\n",
        "  sub_id=tsv.split(\"/\")[-1].split(\"_\")[0]\n",
        "  task=tsv.split(\"/\")[-1].split(\"_\")[2]\n",
        "  #print('[INFO] %s'%subj_id)\n",
        "\n",
        "  tsv_df=pd.read_csv(tsv, sep=\"\\t\")\n",
        "  # get datafile column variables\n",
        "  tsv_df.rename_axis(\"time(s)\", inplace=True)\n",
        "\n",
        "  # plot the 6 basic motion paramters\n",
        "  tsv_df[moco_cols].plot(kind='line', title=\"{}_{} six basic motion parameters\".format(sub_id, task))\n",
        "  plt.show()\n",
        "\n",
        "\n",
        "w = widgets.Select(options=T)\n",
        "interactive(plot, x=w)"
      ],
      "execution_count": null,
      "outputs": [
        {
          "output_type": "error",
          "ename": "NameError",
          "evalue": "ignored",
          "traceback": [
            "\u001b[0;31m---------------------------------------------------------------------------\u001b[0m",
            "\u001b[0;31mNameError\u001b[0m                                 Traceback (most recent call last)",
            "\u001b[0;32m<ipython-input-8-0e73a5029c8c>\u001b[0m in \u001b[0;36m<module>\u001b[0;34m()\u001b[0m\n\u001b[0;32m----> 1\u001b[0;31m \u001b[0;32mdef\u001b[0m \u001b[0mplot_motion_params\u001b[0m\u001b[0;34m(\u001b[0m\u001b[0mtsv\u001b[0m\u001b[0;34m=\u001b[0m\u001b[0mtsv_df\u001b[0m\u001b[0;34m[\u001b[0m\u001b[0;36m0\u001b[0m\u001b[0;34m]\u001b[0m\u001b[0;34m)\u001b[0m\u001b[0;34m:\u001b[0m\u001b[0;34m\u001b[0m\u001b[0;34m\u001b[0m\u001b[0m\n\u001b[0m\u001b[1;32m      2\u001b[0m   \u001b[0msub_id\u001b[0m\u001b[0;34m=\u001b[0m\u001b[0mtsv\u001b[0m\u001b[0;34m.\u001b[0m\u001b[0msplit\u001b[0m\u001b[0;34m(\u001b[0m\u001b[0;34m\"/\"\u001b[0m\u001b[0;34m)\u001b[0m\u001b[0;34m[\u001b[0m\u001b[0;34m-\u001b[0m\u001b[0;36m1\u001b[0m\u001b[0;34m]\u001b[0m\u001b[0;34m.\u001b[0m\u001b[0msplit\u001b[0m\u001b[0;34m(\u001b[0m\u001b[0;34m\"_\"\u001b[0m\u001b[0;34m)\u001b[0m\u001b[0;34m[\u001b[0m\u001b[0;36m0\u001b[0m\u001b[0;34m]\u001b[0m\u001b[0;34m\u001b[0m\u001b[0;34m\u001b[0m\u001b[0m\n\u001b[1;32m      3\u001b[0m   \u001b[0mtask\u001b[0m\u001b[0;34m=\u001b[0m\u001b[0mtsv\u001b[0m\u001b[0;34m.\u001b[0m\u001b[0msplit\u001b[0m\u001b[0;34m(\u001b[0m\u001b[0;34m\"/\"\u001b[0m\u001b[0;34m)\u001b[0m\u001b[0;34m[\u001b[0m\u001b[0;34m-\u001b[0m\u001b[0;36m1\u001b[0m\u001b[0;34m]\u001b[0m\u001b[0;34m.\u001b[0m\u001b[0msplit\u001b[0m\u001b[0;34m(\u001b[0m\u001b[0;34m\"_\"\u001b[0m\u001b[0;34m)\u001b[0m\u001b[0;34m[\u001b[0m\u001b[0;36m2\u001b[0m\u001b[0;34m]\u001b[0m\u001b[0;34m\u001b[0m\u001b[0;34m\u001b[0m\u001b[0m\n\u001b[1;32m      4\u001b[0m   \u001b[0;31m#print('[INFO] %s'%subj_id)\u001b[0m\u001b[0;34m\u001b[0m\u001b[0;34m\u001b[0m\u001b[0;34m\u001b[0m\u001b[0m\n\u001b[1;32m      5\u001b[0m \u001b[0;34m\u001b[0m\u001b[0m\n",
            "\u001b[0;31mNameError\u001b[0m: name 'tsv_df' is not defined"
          ]
        }
      ]
    },
    {
      "cell_type": "code",
      "metadata": {
        "id": "nfSVoakKowDe"
      },
      "source": [
        "def plot_motion_params(tsv=subject_ids[0]):\n",
        "  sub_id=tsv.split(\"/\")[-1].split(\"_\")[0]\n",
        "  task=tsv.split(\"/\")[-1].split(\"_\")[2]\n",
        "  #print('[INFO] %s'%subj_id)\n",
        "\n",
        "  tsv_df=pd.read_csv(tsv, sep=\"\\t\")\n",
        "  # get datafile column variables\n",
        "  tsv_df.rename_axis(\"time(s)\", inplace=True)\n",
        "\n",
        "  # plot the 6 basic motion paramters\n",
        "  tsv_df[moco_cols].plot(kind='line', title=\"{}_{} six basic motion parameters\".format(sub_id, task))\n",
        "  plt.show()\n",
        "\n",
        "\n",
        "w = widgets.Select(options=T)\n",
        "interactive(plot, x=w)"
      ],
      "execution_count": null,
      "outputs": []
    },
    {
      "cell_type": "markdown",
      "metadata": {
        "id": "CkyfUN_w0q87"
      },
      "source": [
        ""
      ]
    },
    {
      "cell_type": "markdown",
      "metadata": {
        "id": "01uzYqYo0rAV"
      },
      "source": [
        "#### Confounds"
      ]
    },
    {
      "cell_type": "code",
      "metadata": {
        "id": "tldcUaXz0qKP"
      },
      "source": [
        ""
      ],
      "execution_count": null,
      "outputs": []
    },
    {
      "cell_type": "markdown",
      "metadata": {
        "id": "pAGRm0JlluZt"
      },
      "source": [
        "## FSL Feat 3 "
      ]
    },
    {
      "cell_type": "code",
      "metadata": {
        "id": "3pmdYrpFehD_"
      },
      "source": [
        "COPE_LIST=['c10_ssbtaste_h20taste_129',\n",
        " 'c11_usbtaste_h20taste_129',\n",
        " 'c13_h20taste_rinse_129',\n",
        " 'c14_ssbcue_usbcue_129',\n",
        " 'c15_usbcue_ssbcue_129',\n",
        " 'c16_ssbtaste_usbtaste_129',\n",
        " 'c17_usbtaste_ssbtaste_129',\n",
        " 'c12_ssbtaste+usbtaste_h20taste_129',\n",
        " 'c18_rinse_129',\n",
        " 'c19_ssbtaste_rinse_129',\n",
        " 'c1_ssbcue_129',\n",
        " 'c20_usbtaste_rinse_129',\n",
        " 'c2_usbcue_129',\n",
        " 'c3_h20cue_129',\n",
        " 'c4_ssbtaste_129',\n",
        " 'c5_usbtaste_129',\n",
        " 'c6_h20taste_129',\n",
        " 'c7_ssbcue_h20cue_129',\n",
        " 'c8_usbcue_h20cue_129',\n",
        " 'c9_ssbcue+usbcue_h20cue_129']"
      ],
      "execution_count": null,
      "outputs": []
    },
    {
      "cell_type": "code",
      "metadata": {
        "id": "pOM3RfqqRZLC"
      },
      "source": [
        "COPE_DICT={\n",
        "  'c1_ssbcue_129': {\"title\": \"cope 1, ssbcue > baseline\" },\n",
        "  'c2_usbcue_129': {\"title\": \"cope 2, usbcue > baseline\" },\n",
        "  'c3_h20cue_129': {\"title\": \"cope 3, h20cue > baseline\" },\n",
        "  'c4_ssbtaste_129': {\"title\": \"cope 4, ssbtaste > baseline\" },\n",
        "  'c5_usbtaste_129': {\"title\": \"cope 5, usbtaste > baseline\"},\n",
        "  'c6_h20taste_129': {\"title\": \"cope 6, h20taste > baseline\" },\n",
        "  'c7_ssbcue_h20cue_129': {\"title\": \"cope 7, ssbcue > h20cue\" },\n",
        "  'c8_usbcue_h20cue_129': {\"title\": \"cope 8, usbcue > h20cue\" },\n",
        "  'c9_ssbcue+usbcue_h20cue_129': {\"title\": \"cope 9, ssbcue + usbcue > h20cue\"},\n",
        "  'c10_ssbtaste_h20taste_129': {\"title\": \"cope 10, ssbcue + usbcue > h20cue\" },\n",
        "  'c11_usbtaste_h20taste_129': {\"title\": \"cope 11, usbtaste > h20taste\" },\n",
        "  'c12_ssbtaste+usbtaste_h20taste_129': { \"title\": \"cope 12, ssbtaste + usbtaste > h20taste\" },\n",
        "  'c13_h20taste_rinse_129': {\"title\": \"cope 13, h20taste > rinse\" },\n",
        "  'c14_ssbcue_usbcue_129': {\"title\": \"cope 14, ssbcue > usbcue\" },\n",
        "  'c15_usbcue_ssbcue_129': {\"title\": \"cope 15, usbcue > ssbcue\" },\n",
        "  'c16_ssbtaste_usbtaste_129': {\"title\": \"cope 16, ssbtaste > usbtaste\" } ,\n",
        "  'c17_usbtaste_ssbtaste_129': {\"title\": \"cope 17, usbtaste > ssbtaste\" },\n",
        "  'c18_rinse_129': {\"title\": \"cope 18, rinse > baseline\"},\n",
        "  'c19_ssbtaste_rinse_129': {\"title\": \"cope 19, ssbtaste > rinse\"},\n",
        "  'c20_usbtaste_rinse_129': {\"title\": \"cope 20, usbtaste > rinse\"},\n",
        "  }"
      ],
      "execution_count": null,
      "outputs": []
    },
    {
      "cell_type": "code",
      "metadata": {
        "id": "b2mNkRc4eqPj"
      },
      "source": [
        "data_dict={}\n",
        "\n",
        "for cope in COPE_DICT.keys():\n",
        "    folder_path='/content/gdrive/My Drive/Projects/17-0710_BBX/1_data/quality_analysis/files'\n",
        "    cope_id = cope.split(\"_\")[0]\n",
        "    #print(cope)\n",
        "    # get threshold png file for each cope\n",
        "    zstat_img = os.path.join(folder_path, '%s_rendered_thresh_zstat1.png'%cope_id)\n",
        "    #print(\"[INFO] zstat file path: %s\"%zstat_img)\n",
        "    \n",
        "    cluster_txt = os.path.join(folder_path, '%s_cluster_zstat1_std.txt'%cope_id)\n",
        "    #print(\"[INFO] cluster text file: %s\"%cluster_txt)\n",
        "    \n",
        "    lmax_txt = os.path.join(folder_path, '%s_lmax_zstat1_std.txt'%cope_id)\n",
        "    #print(\"[INFO] lmax text file: %s\"%lmax_txt)\n",
        "    \n",
        "    if cope not in data_dict:\n",
        "        data_dict[cope] = {}\n",
        "    \n",
        "    #data_dict[cope]['zstat_img'] = zstat_img\n",
        "    #if \"zstat_img\" not in COPE_DICT[cope]\n",
        "    COPE_DICT[cope]['zstat_img'] = zstat_img\n",
        "    COPE_DICT[cope]['lmax_txt'] = lmax_txt\n",
        "    COPE_DICT[cope]['cluster_txt'] = cluster_txt\n",
        "    \n",
        "\n"
      ],
      "execution_count": null,
      "outputs": []
    },
    {
      "cell_type": "code",
      "metadata": {
        "id": "nAvFier4UvNd",
        "outputId": "5edb2782-d803-4817-fc3e-99d4bea6b973",
        "colab": {
          "base_uri": "https://localhost:8080/",
          "height": 54
        }
      },
      "source": [
        "# check data dict was fill\n",
        "COPE_DICT.keys()\n"
      ],
      "execution_count": null,
      "outputs": [
        {
          "output_type": "execute_result",
          "data": {
            "text/plain": [
              "dict_keys(['c1_ssbcue_129', 'c2_usbcue_129', 'c3_h20cue_129', 'c4_ssbtaste_129', 'c5_usbtaste_129', 'c6_h20taste_129', 'c7_ssbcue_h20cue_129', 'c8_usbcue_h20cue_129', 'c9_ssbcue+usbcue_h20cue_129', 'c10_ssbtaste_h20taste_129', 'c11_usbtaste_h20taste_129', 'c12_ssbtaste+usbtaste_h20taste_129', 'c13_h20taste_rinse_129', 'c14_ssbcue_usbcue_129', 'c15_usbcue_ssbcue_129', 'c16_ssbtaste_usbtaste_129', 'c17_usbtaste_ssbtaste_129', 'c18_rinse_129', 'c19_ssbtaste_rinse_129', 'c20_usbtaste_rinse_129'])"
            ]
          },
          "metadata": {
            "tags": []
          },
          "execution_count": 113
        }
      ]
    },
    {
      "cell_type": "code",
      "metadata": {
        "id": "81aT1psEZIxq",
        "outputId": "e6b43d13-1739-4d9b-bc8c-13f76da4e577",
        "colab": {
          "base_uri": "https://localhost:8080/",
          "height": 357
        }
      },
      "source": [
        "menu_opts=[]\n",
        "for x in COPE_DICT.keys():\n",
        "  menu_opts.append(COPE_DICT[x]['title'])\n",
        "menu_opts"
      ],
      "execution_count": null,
      "outputs": [
        {
          "output_type": "execute_result",
          "data": {
            "text/plain": [
              "['cope 1, ssbcue > baseline',\n",
              " 'cope 2, usbcue > baseline',\n",
              " 'cope 3, h20cue > baseline',\n",
              " 'cope 4, ssbtaste > baseline',\n",
              " 'cope 5, usbtaste > baseline',\n",
              " 'cope 6, h20taste > baseline',\n",
              " 'cope 7, ssbcue > h20cue',\n",
              " 'cope 8, usbcue > h20cue',\n",
              " 'cope 9, ssbcue + usbcue > h20cue',\n",
              " 'cope 10, ssbcue + usbcue > h20cue',\n",
              " 'cope 11, usbtaste > h20taste',\n",
              " 'cope 12, ssbtaste + usbtaste > h20taste',\n",
              " 'cope 13, h20taste > rinse',\n",
              " 'cope 14, ssbcue > usbcue',\n",
              " 'cope 15, usbcue > ssbcue',\n",
              " 'cope 16, ssbtaste > usbtaste',\n",
              " 'cope 17, usbtaste > ssbtaste',\n",
              " 'cope 18, rinse > baseline',\n",
              " 'cope 19, ssbtaste > rinse',\n",
              " 'cope 20, usbtaste > rinse']"
            ]
          },
          "metadata": {
            "tags": []
          },
          "execution_count": 114
        }
      ]
    },
    {
      "cell_type": "markdown",
      "metadata": {
        "id": "7VIkeEf5lukW"
      },
      "source": [
        "**FSL Feat 3 zstats from cope analysis**\n",
        "\n",
        "Quick Widget Viewer:  \n",
        "*To run...*\n"
      ]
    },
    {
      "cell_type": "code",
      "metadata": {
        "id": "z0JnhYE_iIFR"
      },
      "source": [
        "## Helper Functions \n",
        "\n",
        "def get_key(x):\n",
        "\n",
        "  if \"cope 1,\" in x:\n",
        "    return ''.join([x for x in COPE_LIST if \"c1_\" in x])\n",
        "  elif \"cope 2,\" in x:\n",
        "    return ''.join([x for x in COPE_LIST if \"c2_\" in x])\n",
        "  elif \"cope 3,\" in x:\n",
        "    return ''.join([x for x in COPE_LIST if \"c3_\" in x])\n",
        "  elif \"cope 4,\" in x:\n",
        "    return ''.join([x for x in COPE_LIST if \"c4_\" in x])\n",
        "  elif \"cope 5,\" in x:\n",
        "    return ''.join([x for x in COPE_LIST if \"c5_\" in x])\n",
        "  elif \"cope 6,\" in x:\n",
        "    return ''.join([x for x in COPE_LIST if \"c6_\" in x])  \n",
        "  elif \"cope 7,\" in x:\n",
        "    return ''.join([x for x in COPE_LIST if \"c7_\" in x])\n",
        "    \n",
        "  elif \"cope 8,\" in x:\n",
        "    return ''.join([x for x in COPE_LIST if \"c8_\" in x])\n",
        "    \n",
        "  elif \"cope 9,\" in x:\n",
        "    return ''.join([x for x in COPE_LIST if \"c9_\" in x])\n",
        "    \n",
        "  elif \"cope 10,\" in x:\n",
        "    return ''.join([x for x in COPE_LIST if \"c10_\" in x])\n",
        "    \n",
        "  elif \"cope 11,\" in x:\n",
        "    return ''.join([x for x in COPE_LIST if \"c11_\" in x])\n",
        "    \n",
        "  elif \"cope 12,\" in x:\n",
        "    return ''.join([x for x in COPE_LIST if \"c12_\" in x])\n",
        "    \n",
        "  elif \"cope 13,\" in x:\n",
        "    return ''.join([x for x in COPE_LIST if \"c13_\" in x])\n",
        "\n",
        "  elif \"cope 14,\" in x:\n",
        "    return ''.join([x for x in COPE_LIST if \"c14_\" in x])\n",
        "    \n",
        "  elif \"cope 15,\" in x:\n",
        "    return ''.join([x for x in COPE_LIST if \"c15_\" in x])\n",
        "    \n",
        "  elif \"cope 16,\" in x:\n",
        "    return ''.join([x for x in COPE_LIST if \"c16_\" in x])\n",
        "    \n",
        "  elif \"cope 17,\" in x:\n",
        "    return ''.join([x for x in COPE_LIST if \"c17_\" in x])\n",
        "    \n",
        "  elif \"cope 18,\" in x:\n",
        "    return ''.join([x for x in COPE_LIST if \"c18_\" in x])\n",
        "    \n",
        "  elif \"cope 19,\" in x:\n",
        "    return ''.join([x for x in COPE_LIST if \"c19_\" in x])\n",
        "    \n",
        "  elif \"cope 20,\" in x:\n",
        "    return ''.join([x for x in COPE_LIST if \"c20_\" in x])\n",
        "    \n",
        "  else:\n",
        "    return None\n",
        "\n",
        "  return key;\n",
        "\n",
        "\n",
        "def plot(cope=menu_opts[0]):\n",
        "    plt.rcParams[\"figure.figsize\"] = (30,15)\n",
        "\n",
        "    # get cope key \n",
        "    key = get_key(cope)\n",
        "    folder_renci=\"/projects/niblab/experiments/bbx/data/fsl_feat3/ses-1/%s.gfeat\"%key\n",
        "\n",
        "\n",
        "    # with key, get files from the dictionary\n",
        "    img=COPE_DICT[key]['zstat_img']\n",
        "    img_name=img.split(\"/\")[-1]\n",
        "    img_path=os.path.join(folder_renci, 'cope1.feat')\n",
        "    lmax_txt=COPE_DICT[key]['lmax_txt']\n",
        "    cluster_txt = COPE_DICT[key]['cluster_txt']\n",
        "    \n",
        "    # display cope title\n",
        "    print('\\n\\n[INFO] %s '%COPE_DICT[key]['title'])\n",
        "    print('[INFO] folder name: %s.gfeat '%key)\n",
        "    print(\"[INFO] find folder, images and other files on renci: \\n\\t%s \\n\"%img_path)  \n",
        "\n",
        "\n",
        "    # display image\n",
        "\n",
        "    print(\"[INFO] image below is the zstat threshold rendered image (%s)\"%img_name)\n",
        "    img = mpimg.imread(img)\n",
        "    plt.imshow(img)\n",
        "    plt.show()\n",
        "\n",
        "\n",
        "    # display cluster z stats\n",
        "    print(\"\\n[FILE] stats below from file %s\"%cluster_txt.split(\"/\")[-1])\n",
        "    cluster_data=pd.read_csv(cluster_txt, sep=\"\\t\")\n",
        "    display(cluster_data)\n",
        "\n",
        "    # display lmax z stats  \n",
        "    print(\"\\n\\n[FILE] stats below from file %s\"%lmax_txt.split(\"/\")[-1])\n",
        "    lmax_data=pd.read_csv(lmax_txt, sep=\"\\t\")\n",
        "    del lmax_data['Unnamed: 5']\n",
        "    display(lmax_data)\n",
        "\n"
      ],
      "execution_count": null,
      "outputs": []
    },
    {
      "cell_type": "code",
      "metadata": {
        "id": "rBEA7X6crmnV",
        "outputId": "088f46f2-3c64-4e4d-8fdd-0e8f054cb457",
        "colab": {
          "base_uri": "https://localhost:8080/",
          "height": 1000,
          "referenced_widgets": [
            "670cc3d35a9f413897d3d37192123689",
            "c4e489d720ad4c2ba3b1a5ed8700f6aa",
            "a76b5818b631447087c527624d5e4f9e",
            "3239339295d849d18968ed675cfdae75",
            "ec335a0fda6a4b59bb9deb1e85405940",
            "eb12386759bd45a38d155b32a6db1561",
            "1f122d4a553d4cd6908b52ee7c49a549"
          ]
        }
      },
      "source": [
        "# run widget that calls help functions above\n",
        "w = widgets.Select(options=menu_opts)\n",
        "interactive(plot, cope=w)"
      ],
      "execution_count": null,
      "outputs": [
        {
          "output_type": "display_data",
          "data": {
            "application/vnd.jupyter.widget-view+json": {
              "model_id": "670cc3d35a9f413897d3d37192123689",
              "version_minor": 0,
              "version_major": 2
            },
            "text/plain": [
              "interactive(children=(Select(description='cope', options=('cope 1, ssbcue > baseline', 'cope 2, usbcue > basel…"
            ]
          },
          "metadata": {
            "tags": []
          }
        }
      ]
    },
    {
      "cell_type": "code",
      "metadata": {
        "id": "9-pS5NrlE5zL"
      },
      "source": [
        ""
      ],
      "execution_count": null,
      "outputs": []
    }
  ]
}