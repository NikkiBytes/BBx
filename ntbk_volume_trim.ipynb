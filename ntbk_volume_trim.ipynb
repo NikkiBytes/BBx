{
 "cells": [
  {
   "cell_type": "markdown",
   "metadata": {},
   "source": [
    "---\n",
    "# Volume Trim \n",
    "This method uses the `fslroi` command to trim volumes from a file.  \n",
    "For input the method expects an outpath and a functional file. Currently the code below runs the method when passed the volume trim flag, and it is cutting 4 volumes. Please check directory paths for your unique data.  \n",
    "  \n",
    "`$ fslroi\n",
    "Usage: fslroi <input> <output> <xmin> <xsize> <ymin> <ysize> <zmin> <zsize>\n",
    "       fslroi <input> <output> <tmin> <tsize>\n",
    "       fslroi <input> <output> <xmin> <xsize> <ymin> <ysize> <zmin> <zsize> <tmin> <tsize>\n",
    "Note: indexing (in both time and space) starts with 0 not 1! Inputting -1 for a size will set it to the full image extent for that dimension.`"
   ]
  },
  {
   "cell_type": "code",
   "execution_count": 1,
   "metadata": {},
   "outputs": [],
   "source": [
    "import os, glob\n",
    "import subprocess as sp\n",
    "from shutil import copytree\n",
    "from multiprocessing import Pool\n"
   ]
  },
  {
   "cell_type": "code",
   "execution_count": 6,
   "metadata": {},
   "outputs": [],
   "source": [
    "bids_trimmed_path='/projects/niblab/experiments/bbx/data/bids/bids_trimmed'\n",
    "bidstrim_sub_folders=glob.glob(os.path.join(bids_trimmed_path, \"sub-*\"))\n",
    "bidstrim_sub_folders.sort()"
   ]
  },
  {
   "cell_type": "code",
   "execution_count": 7,
   "metadata": {},
   "outputs": [
    {
     "data": {
      "text/plain": [
       "['/projects/niblab/experiments/bbx/data/bids/bids_trimmed/sub-002']"
      ]
     },
     "execution_count": 7,
     "metadata": {},
     "output_type": "execute_result"
    }
   ],
   "source": [
    " bidstrim_sub_folders[1:2]"
   ]
  },
  {
   "cell_type": "code",
   "execution_count": 2,
   "metadata": {},
   "outputs": [],
   "source": [
    "bids_path='/projects/niblab/experiments/bbx/data/bids/bids'\n",
    "bids_sub_folders=glob.glob(os.path.join(bids_path, \"sub-*\"))\n",
    "bids_sub_folders.sort()"
   ]
  },
  {
   "cell_type": "code",
   "execution_count": 3,
   "metadata": {},
   "outputs": [
    {
     "name": "stdout",
     "output_type": "stream",
     "text": [
      "/projects/niblab/experiments/bbx/data/bids/bids/sub-091/ses-2 /projects/niblab/experiments/bbx/data/bids/bids_trimmed/sub-091/ses-2\n"
     ]
    }
   ],
   "source": [
    "# Copy Folders 0\n",
    "new_basepath='/projects/niblab/experiments/bbx/data/bids/bids_trimmed'\n",
    "session='ses-2'\n",
    "\n",
    "for sub_folder in bids_sub_folders:\n",
    "    subject=sub_folder.split(\"/\")[-1]\n",
    "    origpath=os.path.join(sub_folder)#, session)\n",
    "    #print(origpath)\n",
    "    newpath=os.path.join(new_basepath, subject)#, session)\n",
    "    #print(newpath)\n",
    "    if os.path.exists(origpath+'/ses-2'):\n",
    "        if not os.path.exists(newpath+'/ses-2'):\n",
    "            print(origpath+'/ses-2', newpath+'/ses-2')\n",
    "            copytree(origpath+'/ses-2', newpath+'/ses-2')\n",
    "    \n",
    "    \n",
    "    "
   ]
  },
  {
   "cell_type": "code",
   "execution_count": 4,
   "metadata": {},
   "outputs": [],
   "source": [
    "def volume_trim(func):\n",
    "    \"\"\"\n",
    "    # FSL Volume Trimming \n",
    "    \"\"\"\n",
    "    func_outpath=os.path.join(sub_folder, '%s/func'%(session))\n",
    "    filename=func.split(\"/\")[-1].split(\".\")[0]\n",
    "    fslroi_output=os.path.join(func_outpath, filename+\".nii.gz\")\n",
    "    fslroi_input=func\n",
    "    logf = open(\"/projects/niblab/experiments/bbx/code/trim_data.log\", \"a+\")\n",
    "    \n",
    "    fslnvols_cmd=['fslnvols', fslroi_input, '&']\n",
    "    #print(' '.join(fslnvols_cmd))\n",
    "    \n",
    "    process=sp.run(' '.join(fslnvols_cmd),  shell=True, check=True, stdout=sp.PIPE, universal_newlines=True)\n",
    "    vol = process.stdout\n",
    "    if \"229\" in vol:\n",
    "        pass\n",
    "    if \"233\" in vol:\n",
    "        fslroi_cmd=['fslroi', fslroi_input, fslroi_output, '4', '-1']\n",
    "        print(' '.join(fslroi_cmd))\n",
    "    \n",
    "        try:\n",
    "            process=sp.run(' '.join(fslroi_cmd),  shell=True, check=True, stdout=sp.PIPE, universal_newlines=True)\n",
    "            output = process.stdout\n",
    "        except Exception as e:\n",
    "            logf.write(\"Failed to trim file {0}: {1}\\n\".format(str(func), str(e)))\n",
    "    #print('[INFO] ', output)\n",
    "    \n",
    "    "
   ]
  },
  {
   "cell_type": "code",
   "execution_count": 8,
   "metadata": {},
   "outputs": [
    {
     "name": "stdout",
     "output_type": "stream",
     "text": [
      "fslroi /projects/niblab/experiments/bbx/data/bids/bids_trimmed/sub-011/ses-2/func/sub-011_ses-2_task-training_run-2_bold.nii.gz /projects/niblab/experiments/bbx/data/bids/bids_trimmed/sub-011/ses-2/func/sub-011_ses-2_task-training_run-2_bold.nii.gz 4 -1\n",
      "fslroi /projects/niblab/experiments/bbx/data/bids/bids_trimmed/sub-011/ses-2/func/sub-011_ses-2_task-training_run-3_bold.nii.gz /projects/niblab/experiments/bbx/data/bids/bids_trimmed/sub-011/ses-2/func/sub-011_ses-2_task-training_run-3_bold.nii.gz 4 -1fslroi /projects/niblab/experiments/bbx/data/bids/bids_trimmed/sub-011/ses-2/func/sub-011_ses-2_task-training_run-4_bold.nii.gz /projects/niblab/experiments/bbx/data/bids/bids_trimmed/sub-011/ses-2/func/sub-011_ses-2_task-training_run-4_bold.nii.gz 4 -1\n",
      "\n",
      "fslroi /projects/niblab/experiments/bbx/data/bids/bids_trimmed/sub-011/ses-2/func/sub-011_ses-2_task-training_run-1_bold.nii.gz /projects/niblab/experiments/bbx/data/bids/bids_trimmed/sub-011/ses-2/func/sub-011_ses-2_task-training_run-1_bold.nii.gz 4 -1\n",
      "fslroi /projects/niblab/experiments/bbx/data/bids/bids_trimmed/sub-013/ses-2/func/sub-013_ses-2_task-training_run-3_bold.nii.gz /projects/niblab/experiments/bbx/data/bids/bids_trimmed/sub-013/ses-2/func/sub-013_ses-2_task-training_run-3_bold.nii.gz 4 -1\n",
      "fslroi /projects/niblab/experiments/bbx/data/bids/bids_trimmed/sub-013/ses-2/func/sub-013_ses-2_task-training_run-2_bold.nii.gz /projects/niblab/experiments/bbx/data/bids/bids_trimmed/sub-013/ses-2/func/sub-013_ses-2_task-training_run-2_bold.nii.gz 4 -1fslroi /projects/niblab/experiments/bbx/data/bids/bids_trimmed/sub-013/ses-2/func/sub-013_ses-2_task-training_run-4_bold.nii.gz /projects/niblab/experiments/bbx/data/bids/bids_trimmed/sub-013/ses-2/func/sub-013_ses-2_task-training_run-4_bold.nii.gz 4 -1\n",
      "\n",
      "fslroi /projects/niblab/experiments/bbx/data/bids/bids_trimmed/sub-013/ses-2/func/sub-013_ses-2_task-training_run-1_bold.nii.gz /projects/niblab/experiments/bbx/data/bids/bids_trimmed/sub-013/ses-2/func/sub-013_ses-2_task-training_run-1_bold.nii.gz 4 -1\n",
      "fslroi /projects/niblab/experiments/bbx/data/bids/bids_trimmed/sub-091/ses-2/func/sub-091_ses-2_task-training_run-1_bold.nii.gz /projects/niblab/experiments/bbx/data/bids/bids_trimmed/sub-091/ses-2/func/sub-091_ses-2_task-training_run-1_bold.nii.gz 4 -1\n",
      "fslroi /projects/niblab/experiments/bbx/data/bids/bids_trimmed/sub-091/ses-2/func/sub-091_ses-2_task-training_run-3_bold.nii.gz /projects/niblab/experiments/bbx/data/bids/bids_trimmed/sub-091/ses-2/func/sub-091_ses-2_task-training_run-3_bold.nii.gz 4 -1\n",
      "fslroi /projects/niblab/experiments/bbx/data/bids/bids_trimmed/sub-091/ses-2/func/sub-091_ses-2_task-training_run-4_bold.nii.gz /projects/niblab/experiments/bbx/data/bids/bids_trimmed/sub-091/ses-2/func/sub-091_ses-2_task-training_run-4_bold.nii.gz 4 -1\n",
      "fslroi /projects/niblab/experiments/bbx/data/bids/bids_trimmed/sub-138/ses-2/func/sub-138_ses-2_task-training_run-1_bold.nii.gz /projects/niblab/experiments/bbx/data/bids/bids_trimmed/sub-138/ses-2/func/sub-138_ses-2_task-training_run-1_bold.nii.gz 4 -1\n",
      "fslroi /projects/niblab/experiments/bbx/data/bids/bids_trimmed/sub-138/ses-2/func/sub-138_ses-2_task-training_run-2_bold.nii.gz /projects/niblab/experiments/bbx/data/bids/bids_trimmed/sub-138/ses-2/func/sub-138_ses-2_task-training_run-2_bold.nii.gz 4 -1fslroi /projects/niblab/experiments/bbx/data/bids/bids_trimmed/sub-138/ses-2/func/sub-138_ses-2_task-training_run-3_bold.nii.gz /projects/niblab/experiments/bbx/data/bids/bids_trimmed/sub-138/ses-2/func/sub-138_ses-2_task-training_run-3_bold.nii.gz 4 -1\n",
      "\n",
      "fslroi /projects/niblab/experiments/bbx/data/bids/bids_trimmed/sub-138/ses-2/func/sub-138_ses-2_task-training_run-4_bold.nii.gz /projects/niblab/experiments/bbx/data/bids/bids_trimmed/sub-138/ses-2/func/sub-138_ses-2_task-training_run-4_bold.nii.gz 4 -1\n",
      "[INFO] completed volume trim.\n"
     ]
    }
   ],
   "source": [
    "\n",
    "brainx=False\n",
    "vol_trim=True\n",
    "for sub_folder in bidstrim_sub_folders:\n",
    "    subject=sub_folder.split(\"/\")[-1]\n",
    "\n",
    "    for session in ['ses-1', 'ses-2']:\n",
    "\n",
    "        #print('[INFO] ', func_outpath)\n",
    "        if brainx==True:\n",
    "            # all runs\n",
    "            bids_funcs=glob.glob(os.path.join(\n",
    "                                    sub_folder,\n",
    "                                    session, \"func/*task-training*.nii.gz\"))\n",
    "        \n",
    "            bids_funcs.sort()  \n",
    "            \n",
    "            for func in bids_funcs:            \n",
    "                brainX(func, func_outpath)\n",
    "                \n",
    "            print(\"[INFO] completed brain extraction.\")\n",
    "  \n",
    "        if vol_trim==True:\n",
    "            \n",
    "            #preproc_funcs=glob.glob(os.path.join(data_path,\n",
    "            #   \"preprocessed/%s/%s/func/*training*rn-*brain.nii.gz\"%(subject, session)))\n",
    "            \n",
    "            funcs=glob.glob(os.path.join(sub_folder, \"%s/func/*training*run-*.nii.gz\"%session))\n",
    "            \n",
    "            # restrict to our bids data instead of fmriprep\n",
    "            funcs=[x for x in funcs if '-preproc' not in x] #if \"preproc\" not in x]\n",
    "\n",
    "            funcs.sort()\n",
    "            \n",
    "            agents=5\n",
    "            chunksize=4\n",
    "                \n",
    "                \n",
    "            with Pool(processes=agents) as pool:\n",
    "                result = pool.map(volume_trim, funcs)\n",
    "            #for func in funcs:\n",
    "                \n",
    "            \n",
    "                #volume_trim(func_outpath, func, run_cmd=True)y\n",
    "print(\"[INFO] completed volume trim.\") \n",
    "\n",
    "            \n",
    "                "
   ]
  },
  {
   "cell_type": "code",
   "execution_count": null,
   "metadata": {},
   "outputs": [],
   "source": [
    "vol_trim(subject=\"sub-001\")"
   ]
  },
  {
   "cell_type": "markdown",
   "metadata": {},
   "source": [
    "### Notes:  \n",
    "\n",
    "> Add notes/trouble-shooting for the errros in the logfile     "
   ]
  },
  {
   "cell_type": "markdown",
   "metadata": {},
   "source": [
    "---"
   ]
  }
 ],
 "metadata": {
  "kernelspec": {
   "display_name": "Python 3",
   "language": "python",
   "name": "python3"
  },
  "language_info": {
   "codemirror_mode": {
    "name": "ipython",
    "version": 3
   },
   "file_extension": ".py",
   "mimetype": "text/x-python",
   "name": "python",
   "nbconvert_exporter": "python",
   "pygments_lexer": "ipython3",
   "version": "3.7.8"
  }
 },
 "nbformat": 4,
 "nbformat_minor": 4
}
