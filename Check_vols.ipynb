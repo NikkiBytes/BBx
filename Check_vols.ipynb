{
 "cells": [
  {
   "cell_type": "markdown",
   "metadata": {},
   "source": [
    "# Check BBx Volumes and Subjects"
   ]
  },
  {
   "cell_type": "code",
   "execution_count": null,
   "metadata": {},
   "outputs": [],
   "source": [
    "# setting up and checking vols\n",
    "import glob, os\n",
    "import subprocess\n",
    "import pandas as pd \n",
    "\n",
    "qa_dict = {}\n",
    "session1 = []\n",
    "session2 = []\n",
    "\n",
    "SUBJECTS = sorted(glob.glob('/projects/niblab/bids_projects/Experiments/bbx/BIDS/sub-*'))\n",
    "\n",
    "for sub_path in SUBJECTS:\n",
    "    sub_id = sub_path.split(\"/\")[-1]\n",
    "    sessions = glob.glob(os.path.join(sub_path, \"ses-*\"))\n",
    "    for ses in sessions:\n",
    "        if \"ses-1\" in ses.split(\"/\")[-1]:\n",
    "            session1.append(sub_id)\n",
    "        elif \"ses-2\" in ses.split(\"/\")[-1]:\n",
    "            session2.append(sub_id)\n",
    "    niftis = glob.glob(os.path.join(sub_path, \"ses-*/func/*nii.gz\"))\n",
    "    for nifti in niftis:\n",
    "        #print(\"FILENAME: \", nifti.split(\"/\")[-1])\n",
    "        filename = nifti.split(\"/\")[-1]\n",
    "        vol = int(subprocess.check_output(['fslnvols', nifti]))\n",
    "        if \"resting\" in filename and vol != 147:\n",
    "            print(filename, vol)\n",
    "        if \"training\" in filename and vol != 233:\n",
    "            print(filename, vol)\n",
    "\n",
    "print(\"SESSION 1 SUBJECT COUNT: \", len(session1))\n",
    "print(\"SESSION 1 SUBJECTS: \", session1)\n",
    "print(\"SESSION 2 SUBJECT COUNT: \", len(session2))\n",
    "print(\"SESSION 2 SUBJECT COUNT: \", session2)"
   ]
  },
  {
   "cell_type": "markdown",
   "metadata": {},
   "source": [
    "### Bad Volumes:  \n",
    "sub-002_ses-1_task-training_run-1_bold.nii.gz 10  \n",
    "sub-002_ses-1_task-training_run-2_bold.nii.gz 193  \n",
    "sub-019_ses-2_task-resting_bold.nii.gz 29  \n",
    "sub-025_ses-1_task-training_run-1_bold.nii.gz 11  \n",
    "sub-044_ses-2_task-resting_bold.nii.gz 122  \n",
    "sub-048_ses-1_task-training_run-1_bold.nii.gz 28  \n",
    "sub-076_ses-1_task-training_run-4_bold.nii.gz 109  \n",
    "sub-077_ses-1_task-training_run-1_bold.nii.gz 9  \n",
    "sub-078_ses-1_task-training_run-1_bold.nii.gz 4  \n",
    "### Subjects:\n",
    "SESSION 1 SUBJECT COUNT:  72  \n",
    "SESSION 1 SUBJECTS:  ['sub-001', 'sub-002', 'sub-003', 'sub-004', 'sub-005', 'sub-006', 'sub-007', 'sub-008', 'sub-009', 'sub-010', 'sub-011', 'sub-012', 'sub-013', 'sub-014', 'sub-015', 'sub-016', 'sub-017', 'sub-018', 'sub-019', 'sub-020', 'sub-021', 'sub-022', 'sub-023', 'sub-024', 'sub-025', 'sub-026', 'sub-027', 'sub-030', 'sub-031', 'sub-033', 'sub-034', 'sub-035', 'sub-036', 'sub-037', 'sub-038', 'sub-039', 'sub-040', 'sub-041', 'sub-042', 'sub-043', 'sub-044', 'sub-045', 'sub-046', 'sub-048', 'sub-050', 'sub-051', 'sub-052', 'sub-053', 'sub-054', 'sub-055', 'sub-056', 'sub-057', 'sub-058', 'sub-059', 'sub-060', 'sub-061', 'sub-062', 'sub-063', 'sub-064', 'sub-065', 'sub-066', 'sub-067', 'sub-068', 'sub-070', 'sub-071', 'sub-072', 'sub-073', 'sub-074', 'sub-075', 'sub-076', 'sub-077', 'sub-078']  \n",
    "SESSION 2 SUBJECT COUNT:  44  \n",
    "SESSION 2 SUBJECT COUNT:  ['sub-001', 'sub-002', 'sub-004', 'sub-005', 'sub-006', 'sub-007', 'sub-008', 'sub-009', 'sub-010', 'sub-011', 'sub-013', 'sub-014', 'sub-015', 'sub-016', 'sub-017', 'sub-019', 'sub-020', 'sub-021', 'sub-022', 'sub-023', 'sub-024', 'sub-031', 'sub-032', 'sub-033', 'sub-034', 'sub-035', 'sub-036', 'sub-037', 'sub-038', 'sub-039', 'sub-040', 'sub-041', 'sub-042', 'sub-043', 'sub-044', 'sub-045', 'sub-046', 'sub-048', 'sub-051', 'sub-053', 'sub-054', 'sub-055', 'sub-061', 'sub-063']"
   ]
  },
  {
   "cell_type": "markdown",
   "metadata": {},
   "source": [
    "# Check BRO Volumes"
   ]
  },
  {
   "cell_type": "code",
   "execution_count": null,
   "metadata": {},
   "outputs": [],
   "source": [
    "# setting up and checking vols\n",
    "import glob, os\n",
    "import subprocess\n",
    "import pandas as pd \n",
    "\n",
    "qa_dict = {}\n",
    "\n",
    "session1 = []\n",
    "session2 = []\n",
    "SUBJECTS = sorted(glob.glob('/projects/niblab/bids_projects/Experiments/BRO/BIDS/sub-*'))\n",
    "\n",
    "for sub_path in SUBJECTS:\n",
    "    sub_id = sub_path.split(\"/\")[-1]\n",
    "    sessions = glob.glob(os.path.join(sub_path, \"ses-*\"))\n",
    "    for ses in sessions:\n",
    "        if \"ses-1\" in ses.split(\"/\")[-1]:\n",
    "            session1.append(sub_id)\n",
    "        elif \"ses-2\" in ses.split(\"/\")[-1]:\n",
    "            session2.append(sub_id)\n",
    "    niftis = glob.glob(os.path.join(sub_path, \"ses-*/func/*nii.gz\"))\n",
    "    for nifti in niftis:\n",
    "        #print(\"FILENAME: \", nifti.split(\"/\")[-1])\n",
    "        filename = nifti.split(\"/\")[-1]\n",
    "        vol = int(subprocess.check_output(['fslnvols', nifti]))\n",
    "        #print(vol)\n",
    "        if \"resting\" in filename and vol != 147:\n",
    "            print(filename, vol)\n",
    "        elif \"training\" in filename and vol != 243:\n",
    "            print(filename, vol)\n",
    "        elif \"pe\" in filename and vol != 193:\n",
    "            print(filename, vol)\n",
    "        else:\n",
    "            pass\n",
    "        \n",
    "print(\"SESSION 1 SUBJECT COUNT: \", len(session1))\n",
    "print(\"SESSION 1 SUBJECTS: \", session1)\n",
    "print(\"SESSION 2 SUBJECT COUNT: \", len(session2))\n",
    "print(\"SESSION 2 SUBJECT COUNT: \", session2)"
   ]
  },
  {
   "cell_type": "markdown",
   "metadata": {},
   "source": [
    "### Bad Volumes  \n",
    "sub-002_ses-1_task-pe_run-1_bold.nii.gz 118  \n",
    "sub-008_ses-2_task-training_run-1_bold.nii.gz 82  \n",
    "sub-009_ses-1_task-training_run-1_bold.nii.gz 6  \n",
    "sub-009_ses-2_task-training_run-1_bold.nii.gz 8  \n",
    "sub-014_ses-1_task-training_run-1_bold.nii.gz 5  \n",
    "sub-016_ses-2_task-training_run-1_bold.nii.gz 6  \n",
    "sub-023_ses-2_task-training_run-1_bold.nii.gz 213  \n",
    "sub-031_ses-1_task-training_run-1_bold.nii.gz 228  \n",
    "sub-031_ses-1_task-training_run-2_bold.nii.gz 231  \n",
    "sub-040_ses-1_task-pe_run-2_bold.nii.gz 39  \n",
    "sub-041_ses-2_task-training_run-2_bold.nii.gz 140   \n",
    "### Subjects  \n",
    "SESSION 1 SUBJECT COUNT:  19  \n",
    "SESSION 1 SUBJECTS:  ['sub-001', 'sub-002', 'sub-003', 'sub-006', 'sub-008', 'sub-009', 'sub-010', 'sub-011', 'sub-012', 'sub-014', 'sub-015', 'sub-016', 'sub-028', 'sub-029', 'sub-030', 'sub-031', 'sub-034', 'sub-038', 'sub-040']  \n",
    "SESSION 2 SUBJECT COUNT:  18  \n",
    "SESSION 2 SUBJECT COUNT:  ['sub-001', 'sub-002', 'sub-003', 'sub-006', 'sub-008', 'sub-009', 'sub-010', 'sub-011', 'sub-012', 'sub-014', 'sub-015', 'sub-016', 'sub-023', 'sub-028', 'sub-030', 'sub-031', 'sub-038', 'sub-041']  "
   ]
  },
  {
   "cell_type": "code",
   "execution_count": null,
   "metadata": {},
   "outputs": [],
   "source": []
  }
 ],
 "metadata": {
  "kernelspec": {
   "display_name": "Python 3",
   "language": "python",
   "name": "python3"
  },
  "language_info": {
   "codemirror_mode": {
    "name": "ipython",
    "version": 3
   },
   "file_extension": ".py",
   "mimetype": "text/x-python",
   "name": "python",
   "nbconvert_exporter": "python",
   "pygments_lexer": "ipython3",
   "version": "3.6.5"
  }
 },
 "nbformat": 4,
 "nbformat_minor": 2
}
