{
 "cells": [
  {
   "cell_type": "markdown",
   "metadata": {},
   "source": [
    "Renaming BBx DICOM folders"
   ]
  },
  {
   "cell_type": "code",
   "execution_count": null,
   "metadata": {},
   "outputs": [],
   "source": [
    "# load in packages\n",
    "import os, glob, shutil\n",
    "from datetime import datetime \n",
    "import re\n",
    "\n",
    "BBX_PATH = '/projects/niblab/bids_projects/Experiments/bbx/DICOM/originals'\n",
    "DICOM_FOLDERS =  sorted(glob.glob(os.path.join(BBX_PATH, \"B*\")))\n",
    "SES1_PATH = \"/projects/niblab/bids_projects/Experiments/bbx/DICOM/originals/ses-1\"\n",
    "SES2_PATH = '/projects/niblab/bids_projects/Experiments/bbx/DICOM/originals/ses-2'\n",
    "for dir_ in DICOM_FOLDERS:\n",
    "    orig_folder_name = dir_.split(\"/\")[-1]\n",
    "    sess_id = orig_folder_name.split(\"_\")[-1]\n",
    "    sub_id = orig_folder_name.split(\"_\")[-2].lower()\n",
    "    print(sess_id, sub_id)\n",
    "    if \"1\" in sess_id:\n",
    "        new_path = os.path.join(SES1_PATH, orig_folder_name)\n",
    "        print(new_path)\n",
    "        shutil.move(dir_,new_path)\n",
    "        new_name = os.path.join(SES1_PATH, sub_id)\n",
    "        os.rename(new_path, new_name)\n",
    "        print(new_name)\n",
    "    elif \"2\" in sess_id:\n",
    "        new_path = os.path.join(SES2_PATH, orig_folder_name)\n",
    "        print(new_path) \n",
    "        shutil.move(dir_,new_path)\n",
    "        new_name = os.path.join(SES2_PATH, sub_id)\n",
    "        os.rename(new_path, new_name)\n",
    "        print(new_name)\n",
    "    else:\n",
    "        pass\n",
    "    "
   ]
  }
 ],
 "metadata": {
  "kernelspec": {
   "display_name": "Python 3",
   "language": "python",
   "name": "python3"
  },
  "language_info": {
   "codemirror_mode": {
    "name": "ipython",
    "version": 3
   },
   "file_extension": ".py",
   "mimetype": "text/x-python",
   "name": "python",
   "nbconvert_exporter": "python",
   "pygments_lexer": "ipython3",
   "version": "3.6.5"
  }
 },
 "nbformat": 4,
 "nbformat_minor": 2
}
