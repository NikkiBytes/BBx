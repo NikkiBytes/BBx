{
 "cells": [
  {
   "cell_type": "markdown",
   "metadata": {},
   "source": [
    "# Check BBx Volumes and Subjects"
   ]
  },
  {
   "cell_type": "code",
   "execution_count": null,
   "metadata": {},
   "outputs": [],
   "source": [
    "# setting up and checking vols\n",
    "import glob, os\n",
    "import subprocess\n",
    "import pandas as pd \n",
    "\n",
    "qa_dict = {}\n",
    "session1 = []\n",
    "session2 = []\n",
    "\n",
    "SUBJECTS = sorted(glob.glob('/projects/niblab/bids_projects/Experiments/bbx/BIDS/sub-*'))\n",
    "\n",
    "for sub_path in SUBJECTS:\n",
    "    sub_id = sub_path.split(\"/\")[-1]\n",
    "    sessions = glob.glob(os.path.join(sub_path, \"ses-*\"))\n",
    "    for ses in sessions:\n",
    "        if \"ses-1\" in ses.split(\"/\")[-1]:\n",
    "            session1.append(sub_id)\n",
    "        elif \"ses-2\" in ses.split(\"/\")[-1]:\n",
    "            session2.append(sub_id)\n",
    "    niftis = glob.glob(os.path.join(sub_path, \"ses-*/func/*nii.gz\"))\n",
    "    for nifti in niftis:\n",
    "        #print(\"FILENAME: \", nifti.split(\"/\")[-1])\n",
    "        filename = nifti.split(\"/\")[-1]\n",
    "        vol = int(subprocess.check_output(['fslnvols', nifti]))\n",
    "        if \"resting\" in filename and vol != 147:\n",
    "            print(filename, vol)\n",
    "        if \"training\" in filename and vol != 233:\n",
    "            print(filename, vol)\n",
    "\n",
    "print(\"SESSION 1 SUBJECT COUNT: \", len(session1))\n",
    "print(\"SESSION 1 SUBJECTS: \", session1)\n",
    "print(\"SESSION 2 SUBJECT COUNT: \", len(session2))\n",
    "print(\"SESSION 2 SUBJECT COUNT: \", session2)"
   ]
  },
  {
   "cell_type": "markdown",
   "metadata": {},
   "source": [
    "sub-002_ses-1_task-training_run-1_bold.nii.gz 10  \n",
    "sub-002_ses-1_task-training_run-2_bold.nii.gz 193  \n",
    "sub-019_ses-2_task-resting_bold.nii.gz 29  \n",
    "sub-025_ses-1_task-training_run-1_bold.nii.gz 11  \n",
    "sub-044_ses-2_task-resting_bold.nii.gz 122  \n",
    "sub-048_ses-1_task-training_run-1_bold.nii.gz 28  \n",
    "sub-076_ses-1_task-training_run-4_bold.nii.gz 109  \n",
    "sub-077_ses-1_task-training_run-1_bold.nii.gz 9  \n",
    "sub-078_ses-1_task-training_run-1_bold.nii.gz 4  "
   ]
  },
  {
   "cell_type": "markdown",
   "metadata": {},
   "source": [
    "# Check BRO Volumes"
   ]
  },
  {
   "cell_type": "code",
   "execution_count": null,
   "metadata": {},
   "outputs": [],
   "source": [
    "# setting up and checking vols\n",
    "import glob, os\n",
    "import subprocess\n",
    "import pandas as pd \n",
    "\n",
    "qa_dict = {}\n",
    "\n",
    "\n",
    "SUBJECTS = sorted(glob.glob('/projects/niblab/bids_projects/Experiments/BRO/BIDS/sub-*'))\n",
    "\n",
    "for sub_path in SUBJECTS:\n",
    "    niftis = glob.glob(os.path.join(sub_path, \"ses-1/func/*nii.gz\"))\n",
    "    for nifti in niftis:\n",
    "        #print(\"FILENAME: \", nifti.split(\"/\")[-1])\n",
    "        filename = nifti.split(\"/\")[-1]\n",
    "        vol = int(subprocess.check_output(['fslnvols', nifti]))\n",
    "        #print(vol)\n",
    "        if \"resting\" in filename and vol != 147:\n",
    "            print(filename, vol)\n",
    "        elif \"training\" in filename and vol != 243:\n",
    "            print(filename, vol)\n",
    "        elif \"pe\" in filename and vol != 193:\n",
    "            print(filename, vol)\n",
    "        else:\n",
    "            pass"
   ]
  },
  {
   "cell_type": "markdown",
   "metadata": {},
   "source": [
    "sub-002_ses-1_task-pe_run-1_bold.nii.gz 118  \n",
    "sub-009_ses-1_task-training_run-1_bold.nii.gz 6  \n",
    "sub-014_ses-1_task-training_run-1_bold.nii.gz 5  \n",
    "sub-031_ses-1_task-training_run-1_bold.nii.gz 228  \n",
    "sub-031_ses-1_task-training_run-2_bold.nii.gz 231  \n",
    "sub-040_ses-1_task-pe_run-2_bold.nii.gz 39  "
   ]
  },
  {
   "cell_type": "code",
   "execution_count": null,
   "metadata": {},
   "outputs": [],
   "source": []
  }
 ],
 "metadata": {
  "kernelspec": {
   "display_name": "Python 3",
   "language": "python",
   "name": "python3"
  },
  "language_info": {
   "codemirror_mode": {
    "name": "ipython",
    "version": 3
   },
   "file_extension": ".py",
   "mimetype": "text/x-python",
   "name": "python",
   "nbconvert_exporter": "python",
   "pygments_lexer": "ipython3",
   "version": "3.6.5"
  }
 },
 "nbformat": 4,
 "nbformat_minor": 2
}
